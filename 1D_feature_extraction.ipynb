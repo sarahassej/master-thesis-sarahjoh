{
 "cells": [
  {
   "cell_type": "markdown",
   "id": "8de06ae3",
   "metadata": {},
   "source": [
    "# Extracting 1D features (RAVDESS-dataset)"
   ]
  },
  {
   "cell_type": "code",
   "execution_count": 5,
   "id": "9e82bf81",
   "metadata": {},
   "outputs": [],
   "source": [
    "import os\n",
    "import librosa\n",
    "import librosa.display\n",
    "import numpy as np\n",
    "import matplotlib.pyplot as plt\n",
    "import IPython.display as ipd\n",
    "from tqdm import tqdm"
   ]
  },
  {
   "cell_type": "code",
   "execution_count": 12,
   "id": "88a168d2",
   "metadata": {},
   "outputs": [],
   "source": [
    "def process_files(src_folder, target_folder, n_mfccs=20):\n",
    "    x_data = os.path.join(target_folder, \"x_data\")\n",
    "    print(x_data)\n",
    "    \n",
    "    if not os.path.exists(x_data):\n",
    "        os.mkdir(x_data)\n",
    "    \n",
    "    subfolders = [f.path for f in os.scandir(src_folder) if f.is_dir()]\n",
    "    i = 0\n",
    "    \n",
    "    for subfolder in tqdm(subfolders): \n",
    "        files = os.listdir(subfolder)\n",
    "        sub_labels = []\n",
    "        sub_actors = []\n",
    "        j = 0\n",
    "        \n",
    "        # for _, _, files in os.walk(src_folder):\n",
    "        for file in files:\n",
    "            if file.endswith(\".wav\"):\n",
    "\n",
    "                # Make the five spectral features, join in tensor and save tensor as file\n",
    "                y, sr = librosa.load(subfolder + '/' + file)\n",
    "\n",
    "                #Spectrogram\n",
    "                S = np.abs(librosa.stft(y))\n",
    "                Y = S**2\n",
    "\n",
    "                # mel-scaled spectrogram\n",
    "                mel_spectrogram = librosa.feature.melspectrogram(S=Y, sr=sr)\n",
    "                # print(\"Mel-spectrogram:\", mel_spectrogram.shape)\n",
    "\n",
    "                # MFCC\n",
    "                mfcc = librosa.feature.mfcc(S=librosa.power_to_db(mel_spectrogram), n_mfcc=n_mfccs)\n",
    "                # print(\"MFCC:\", mfcc.shape)\n",
    "\n",
    "                # Chromagram (using STFT)\n",
    "                chromagram = librosa.feature.chroma_stft(S=S, sr=sr)\n",
    "                # print(\"Chromagram:\", chromagram.shape)\n",
    "\n",
    "                # Spectral contrast feature\n",
    "                contrast = librosa.feature.spectral_contrast(S=S, sr=sr)\n",
    "                # print(\"Contrast:\", contrast.shape)\n",
    "\n",
    "                # Tonnetz representation\n",
    "                y = librosa.effects.harmonic(y)\n",
    "                tonnetz = librosa.feature.tonnetz(y=y, sr=sr)\n",
    "                # print(\"Tonnetz:\", tonnetz.shape)\n",
    "\n",
    "                # Concatenate spectral features\n",
    "                concat_features = np.concatenate((mel_spectrogram, mfcc, chromagram, contrast, tonnetz), axis=0)\n",
    "                #print(\"CONCAT:\", concat_features.shape, \"\\n\")\n",
    "                \n",
    "                concat_features = np.mean(concat_features, axis=1)\n",
    "                #print(\"MEAN:\", concat_features.shape, \"\\n\")\n",
    "                \n",
    "                \n",
    "\n",
    "                sub_labels.append(int(file[7]))\n",
    "                sub_actors.append(int(file[-6:-4]))\n",
    "                x_file = \"x\"+str(i)\n",
    "                np.save(os.path.join(x_data, x_file), concat_features)\n",
    "                i += 1\n",
    "                j += 1\n",
    "                \n",
    "        if i == j:\n",
    "            labels = sub_labels\n",
    "            actors = sub_actors\n",
    "        else:\n",
    "            labels = labels + sub_labels\n",
    "            actors = actors + sub_actors\n",
    "            \n",
    "    np.save(os.path.join(target_folder, \"y\"), np.array(labels, dtype=np.int8))\n",
    "    np.save(os.path.join(target_folder, \"actors\"), np.array(actors, dtype=np.int8))"
   ]
  },
  {
   "cell_type": "markdown",
   "id": "e7212ef0",
   "metadata": {},
   "source": [
    " ## Processing speech"
   ]
  },
  {
   "cell_type": "code",
   "execution_count": 15,
   "id": "f3a3fe65",
   "metadata": {},
   "outputs": [],
   "source": [
    "src_folder = 'dataset/Audio_Speech_Actors_01-24/'\n",
    "#target_folder = '1D_processed_data/speech/'\n",
    "target_folder = '1D_processed_data/v2/speech/'"
   ]
  },
  {
   "cell_type": "code",
   "execution_count": 16,
   "id": "c2049718",
   "metadata": {},
   "outputs": [
    {
     "name": "stdout",
     "output_type": "stream",
     "text": [
      "1D_processed_data/v2/speech/x_data\n",
      "hey\n"
     ]
    },
    {
     "name": "stderr",
     "output_type": "stream",
     "text": [
      " 75%|███████▌  | 18/24 [07:48<02:24, 24.15s/it]/Library/Frameworks/Python.framework/Versions/3.8/lib/python3.8/site-packages/librosa/core/spectrum.py:222: UserWarning: n_fft=1024 is too small for input signal of length=1012\n",
      "  warnings.warn(\n",
      "100%|██████████| 24/24 [10:16<00:00, 25.68s/it]\n"
     ]
    }
   ],
   "source": [
    "process_files(src_folder, target_folder, n_mfccs=40)"
   ]
  },
  {
   "cell_type": "code",
   "execution_count": 17,
   "id": "9c7d99f6",
   "metadata": {},
   "outputs": [
    {
     "name": "stdout",
     "output_type": "stream",
     "text": [
      "(1056,)\n",
      "(1056,)\n",
      "1056\n"
     ]
    }
   ],
   "source": [
    "y = np.load(target_folder + 'y.npy')\n",
    "folder = target_folder + 'x_data'\n",
    "xes = [file for file in os.listdir(folder) if file.endswith(\".npy\")]\n",
    "actors = np.load(target_folder + 'actors.npy')\n",
    "\n",
    "print(y.shape)\n",
    "print(actors.shape)\n",
    "print(len(xes))"
   ]
  },
  {
   "cell_type": "markdown",
   "id": "7c33d7e4",
   "metadata": {},
   "source": [
    "## Processing song"
   ]
  },
  {
   "cell_type": "code",
   "execution_count": 21,
   "id": "68290637",
   "metadata": {},
   "outputs": [],
   "source": [
    "src_folder = 'dataset/Audio_Song_Actors_01-24'\n",
    "# target_folder = '1D_processed_data/song/'\n",
    "target_folder = '1D_processed_data/v2/song/'"
   ]
  },
  {
   "cell_type": "code",
   "execution_count": 19,
   "id": "399c38cc",
   "metadata": {},
   "outputs": [
    {
     "name": "stdout",
     "output_type": "stream",
     "text": [
      "1D_processed_data/v2/song/x_data\n",
      "hey\n"
     ]
    },
    {
     "name": "stderr",
     "output_type": "stream",
     "text": [
      "100%|██████████| 24/24 [11:01<00:00, 27.58s/it]\n"
     ]
    }
   ],
   "source": [
    "process_files(src_folder, target_folder, n_mfccs=40)"
   ]
  },
  {
   "cell_type": "code",
   "execution_count": 22,
   "id": "9c1175dc",
   "metadata": {},
   "outputs": [
    {
     "name": "stdout",
     "output_type": "stream",
     "text": [
      "(1012,)\n",
      "(1012,)\n",
      "1012\n"
     ]
    }
   ],
   "source": [
    "y = np.load(target_folder + 'y.npy')\n",
    "folder = target_folder + 'x_data'\n",
    "xes = [file for file in os.listdir(folder) if file.endswith(\".npy\")]\n",
    "actors = np.load(target_folder + 'actors.npy')\n",
    "\n",
    "print(y.shape)\n",
    "print(actors.shape)\n",
    "print(len(xes))"
   ]
  },
  {
   "cell_type": "code",
   "execution_count": null,
   "id": "d729ce01",
   "metadata": {},
   "outputs": [],
   "source": []
  }
 ],
 "metadata": {
  "kernelspec": {
   "display_name": "env",
   "language": "python",
   "name": "env"
  },
  "language_info": {
   "codemirror_mode": {
    "name": "ipython",
    "version": 3
   },
   "file_extension": ".py",
   "mimetype": "text/x-python",
   "name": "python",
   "nbconvert_exporter": "python",
   "pygments_lexer": "ipython3",
   "version": "3.8.6"
  }
 },
 "nbformat": 4,
 "nbformat_minor": 5
}
