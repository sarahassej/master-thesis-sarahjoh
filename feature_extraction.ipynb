{
 "cells": [
  {
   "cell_type": "markdown",
   "id": "0ccfa29f",
   "metadata": {},
   "source": [
    "# Feature extraction (RAVDESS-dataset)"
   ]
  },
  {
   "cell_type": "code",
   "execution_count": 1,
   "id": "4f4cb102",
   "metadata": {},
   "outputs": [],
   "source": [
    "import os\n",
    "import librosa\n",
    "import librosa.display\n",
    "import numpy as np\n",
    "import matplotlib.pyplot as plt\n",
    "import IPython.display as ipd\n",
    "from tqdm import tqdm"
   ]
  },
  {
   "cell_type": "code",
   "execution_count": 53,
   "id": "07d2a1c3",
   "metadata": {},
   "outputs": [],
   "source": [
    "def process_files(src_folder, target_folder):\n",
    "    x_data = os.path.join(target_folder,\"x_data\")\n",
    "    \n",
    "    if not os.path.exists(x_data):\n",
    "        os.mkdir(x_data)\n",
    "    \n",
    "    subfolders = [f.path for f in os.scandir(src_folder) if f.is_dir()]\n",
    "    i = 0\n",
    "    \n",
    "    for subfolder in tqdm(subfolders): \n",
    "        files = os.listdir(subfolder)\n",
    "        sub_labels = []\n",
    "        sub_actors = []\n",
    "        j = 0\n",
    "        \n",
    "        # for _, _, files in os.walk(src_folder):\n",
    "        for file in files:\n",
    "            if file.endswith(\".wav\"):\n",
    "\n",
    "                # Make the five spectral features, join in tensor and save tensor as file\n",
    "                y, sr = librosa.load(subfolder + '/' + file)\n",
    "\n",
    "                #Spectrogram\n",
    "                S = np.abs(librosa.stft(y))\n",
    "                Y = S**2\n",
    "\n",
    "                # mel-scaled spectrogram\n",
    "                mel_spectrogram = librosa.feature.melspectrogram(S=Y, sr=sr)\n",
    "                # print(\"Mel-spectrogram:\", mel_spectrogram.shape)\n",
    "\n",
    "                # MFCC\n",
    "                mfcc = librosa.feature.mfcc(S=librosa.power_to_db(mel_spectrogram))\n",
    "                # print(\"MFCC:\", mfcc.shape)\n",
    "\n",
    "                # Chromagram (using STFT)\n",
    "                chromagram = librosa.feature.chroma_stft(S=S, sr=sr)\n",
    "                # print(\"Chromagram:\", chromagram.shape)\n",
    "\n",
    "                # Spectral contrast feature\n",
    "                contrast = librosa.feature.spectral_contrast(S=S, sr=sr)\n",
    "                # print(\"Contrast:\", contrast.shape)\n",
    "\n",
    "                # Tonnetz representation\n",
    "                y = librosa.effects.harmonic(y)\n",
    "                tonnetz = librosa.feature.tonnetz(y=y, sr=sr)\n",
    "                # print(\"Tonnetz:\", tonnetz.shape)\n",
    "\n",
    "                # Concatenate spectral features\n",
    "                concat_features = np.concatenate((mel_spectrogram, mfcc, chromagram, contrast, tonnetz), axis=0)\n",
    "                # print(\"CONCAT:\", concat_features.shape, \"\\n\")\n",
    "\n",
    "                sub_labels.append(int(file[7]))\n",
    "                sub_actors.append(int(file[-6:-4]))\n",
    "                x_file = \"x\"+str(i)\n",
    "                np.save(os.path.join(x_data, x_file), concat_features)\n",
    "                i += 1\n",
    "                j += 1\n",
    "                \n",
    "        if i == j:\n",
    "            labels = sub_labels\n",
    "            actors = sub_actors\n",
    "        else:\n",
    "            labels = labels + sub_labels\n",
    "            actors = actors + sub_actors\n",
    "            \n",
    "    np.save(os.path.join(target_folder, \"y\"), np.array(labels, dtype=np.int8))\n",
    "    np.save(os.path.join(target_folder, \"actors\"), np.array(actors, dtype=np.int8))"
   ]
  },
  {
   "cell_type": "markdown",
   "id": "51085543",
   "metadata": {},
   "source": [
    "## Processing speech"
   ]
  },
  {
   "cell_type": "code",
   "execution_count": 54,
   "id": "8eb720bc",
   "metadata": {},
   "outputs": [],
   "source": [
    "src_folder = 'dataset/Audio_Speech_Actors_01-24/'\n",
    "target_folder = 'processed_data/speech/'"
   ]
  },
  {
   "cell_type": "code",
   "execution_count": 55,
   "id": "e0b1d8c7",
   "metadata": {},
   "outputs": [
    {
     "name": "stderr",
     "output_type": "stream",
     "text": [
      "100%|███████████████████████████████████████████| 24/24 [07:52<00:00, 19.67s/it]\n"
     ]
    }
   ],
   "source": [
    "process_files(src_folder, target_folder)"
   ]
  },
  {
   "cell_type": "code",
   "execution_count": 56,
   "id": "b58388b6",
   "metadata": {},
   "outputs": [
    {
     "name": "stdout",
     "output_type": "stream",
     "text": [
      "(1056,)\n",
      "(1056,)\n",
      "1056\n"
     ]
    }
   ],
   "source": [
    "y = np.load(target_folder + 'y.npy')\n",
    "folder = target_folder + 'x_data'\n",
    "xes = [file for file in os.listdir(folder) if file.endswith(\".npy\")]\n",
    "actors = np.load(target_folder + 'actors.npy')\n",
    "\n",
    "print(y.shape)\n",
    "print(actors.shape)\n",
    "print(len(xes))"
   ]
  },
  {
   "cell_type": "markdown",
   "id": "846973bd",
   "metadata": {},
   "source": [
    "## Processing song"
   ]
  },
  {
   "cell_type": "code",
   "execution_count": 60,
   "id": "7ee47392",
   "metadata": {},
   "outputs": [],
   "source": [
    "src_folder = 'dataset/Audio_Song_Actors_01-24'\n",
    "target_folder = 'processed_data/song/'"
   ]
  },
  {
   "cell_type": "code",
   "execution_count": 58,
   "id": "2be60456",
   "metadata": {},
   "outputs": [
    {
     "name": "stderr",
     "output_type": "stream",
     "text": [
      "100%|███████████████████████████████████████████| 24/24 [10:20<00:00, 25.84s/it]\n"
     ]
    }
   ],
   "source": [
    "process_files(src_folder, target_folder)"
   ]
  },
  {
   "cell_type": "code",
   "execution_count": 61,
   "id": "dc0323d9",
   "metadata": {},
   "outputs": [
    {
     "name": "stdout",
     "output_type": "stream",
     "text": [
      "(1012,)\n",
      "(1012,)\n",
      "1012\n"
     ]
    }
   ],
   "source": [
    "y = np.load(target_folder + 'y.npy')\n",
    "folder = target_folder + 'x_data'\n",
    "xes = [file for file in os.listdir(folder) if file.endswith(\".npy\")]\n",
    "actors = np.load(target_folder + 'actors.npy')\n",
    "\n",
    "print(y.shape)\n",
    "print(actors.shape)\n",
    "print(len(xes))"
   ]
  }
 ],
 "metadata": {
  "kernelspec": {
   "display_name": "env",
   "language": "python",
   "name": "env"
  },
  "language_info": {
   "codemirror_mode": {
    "name": "ipython",
    "version": 3
   },
   "file_extension": ".py",
   "mimetype": "text/x-python",
   "name": "python",
   "nbconvert_exporter": "python",
   "pygments_lexer": "ipython3",
   "version": "3.8.6"
  }
 },
 "nbformat": 4,
 "nbformat_minor": 5
}
